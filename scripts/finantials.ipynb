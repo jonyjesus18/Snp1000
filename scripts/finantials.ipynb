{
 "cells": [
  {
   "cell_type": "code",
   "execution_count": 1,
   "metadata": {},
   "outputs": [],
   "source": [
    "from datetime import date\n",
    "import datetime \n",
    "import shutil\n",
    "import pandas as pd\n",
    "import yfinance as yf\n",
    "pd.set_option('display.max_rows',None)\n",
    "import matplotlib.pyplot as plt\n",
    "from sklearn.linear_model import LinearRegression\n",
    "import numpy as np\n",
    "from scipy import stats\n",
    "import openpyxl\n",
    "\n",
    "today = date.today()\n",
    "current_day = int(today.strftime('%d'))\n",
    "current_month = int(today.strftime('%m'))\n",
    "current_year = int('20'+today.strftime('%y'))\n",
    "\n",
    "start = datetime.date(2020,10,19)\n",
    "end = datetime.date(current_year,current_month,current_day)\n"
   ]
  },
  {
   "cell_type": "code",
   "execution_count": 1,
   "metadata": {},
   "outputs": [],
   "source": [
    "#Module 1 - Get data\n",
    "snowFlake = yf.Ticker('SNOW')\n",
    "snowFlake.cashflow\n"
   ]
  },
  {
   "cell_type": "code",
   "execution_count": null,
   "metadata": {},
   "outputs": [],
   "source": []
  }
 ],
 "metadata": {
  "interpreter": {
   "hash": "b9401ba2cd070fc65b82f27d639c1d04e29d71a1ed16f939e5db9876ac6a0b88"
  },
  "kernelspec": {
   "display_name": "Python 3.9.1 64-bit",
   "language": "python",
   "name": "python3"
  },
  "language_info": {
   "codemirror_mode": {
    "name": "ipython",
    "version": 3
   },
   "file_extension": ".py",
   "mimetype": "text/x-python",
   "name": "python",
   "nbconvert_exporter": "python",
   "pygments_lexer": "ipython3",
   "version": "3.9.1"
  },
  "orig_nbformat": 4
 },
 "nbformat": 4,
 "nbformat_minor": 2
}
