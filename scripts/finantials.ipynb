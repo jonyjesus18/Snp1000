{
 "cells": [
  {
   "cell_type": "code",
   "execution_count": 1,
   "metadata": {},
   "outputs": [],
   "source": [
    "from datetime import date\n",
    "import datetime \n",
    "import shutil\n",
    "import pandas as pd\n",
    "import yfinance as yf\n",
    "pd.set_option('display.max_rows',None)\n",
    "import matplotlib.pyplot as plt\n",
    "from sklearn.linear_model import LinearRegression\n",
    "import numpy as np\n",
    "from scipy import stats\n",
    "import openpyxl\n",
    "\n",
    "today = date.today()\n",
    "current_day = int(today.strftime('%d'))\n",
    "current_month = int(today.strftime('%m'))\n",
    "current_year = int('20'+today.strftime('%y'))\n",
    "\n",
    "start = datetime.date(2020,10,19)\n",
    "end = datetime.date(current_year,current_month,current_day)\n"
   ]
  },
  {
   "cell_type": "code",
   "execution_count": 4,
   "metadata": {},
   "outputs": [
    {
     "name": "stdout",
     "output_type": "stream",
     "text": [
      "                                             2020-12-31    2019-12-31  \\\n",
      "Change To Liabilities                      2.423000e+09  1.447000e+09   \n",
      "Total Cashflows From Investing Activities -3.132000e+09 -1.436000e+09   \n",
      "Net Borrowings                            -2.488000e+09  7.980000e+08   \n",
      "Total Cash From Financing Activities       9.973000e+09  1.529000e+09   \n",
      "Change To Operating Activities            -1.165000e+09 -1.000000e+09   \n",
      "Issuance Of Stock                          1.268600e+10  1.111000e+09   \n",
      "Net Income                                 7.210000e+08 -8.620000e+08   \n",
      "Change In Cash                             1.311800e+10  2.506000e+09   \n",
      "Effect Of Exchange Rate                    3.340000e+08  8.000000e+06   \n",
      "Total Cash From Operating Activities       5.943000e+09  2.405000e+09   \n",
      "Depreciation                               2.322000e+09  2.092000e+09   \n",
      "Other Cashflows From Investing Activities  1.230000e+08  4.600000e+07   \n",
      "Change To Inventory                       -4.220000e+08 -4.290000e+08   \n",
      "Change To Account Receivables             -6.520000e+08 -3.670000e+08   \n",
      "Other Cashflows From Financing Activities -2.250000e+08 -3.800000e+08   \n",
      "Change To Netincome                        2.536000e+09  1.336000e+09   \n",
      "Capital Expenditures                      -3.232000e+09 -1.432000e+09   \n",
      "\n",
      "                                             2018-12-31    2017-12-31  \n",
      "Change To Liabilities                      2.203000e+09  8.570000e+08  \n",
      "Total Cashflows From Investing Activities -2.337000e+09 -4.196000e+09  \n",
      "Net Borrowings                             8.900000e+07  3.385000e+09  \n",
      "Total Cash From Financing Activities       5.740000e+08  4.415000e+09  \n",
      "Change To Operating Activities            -6.250000e+08 -1.150000e+09  \n",
      "Issuance Of Stock                          2.960000e+08  6.590000e+08  \n",
      "Net Income                                -9.760000e+08 -1.962000e+09  \n",
      "Change In Cash                             3.120000e+08  1.980000e+08  \n",
      "Effect Of Exchange Rate                   -2.300000e+07  4.000000e+07  \n",
      "Total Cash From Operating Activities       2.098000e+09 -6.100000e+07  \n",
      "Depreciation                               1.888000e+09  1.636000e+09  \n",
      "Other Cashflows From Investing Activities  4.600000e+07  4.600000e+07  \n",
      "Change To Inventory                       -1.023000e+09 -1.790000e+08  \n",
      "Change To Account Receivables             -4.970000e+08 -2.500000e+07  \n",
      "Other Cashflows From Financing Activities  1.890000e+08  3.710000e+08  \n",
      "Change To Netincome                        9.690000e+08  6.710000e+08  \n",
      "Capital Expenditures                      -2.319000e+09 -4.081000e+09  \n",
      "                                             2021-01-31   2020-01-31  \\\n",
      "Investments                               -3.981906e+09  167657000.0   \n",
      "Change To Liabilities                      3.100030e+08  224077000.0   \n",
      "Total Cashflows From Investing Activities -4.036645e+09  138495000.0   \n",
      "Net Borrowings                             2.090000e+06    2090000.0   \n",
      "Total Cash From Financing Activities       4.775290e+09   57469000.0   \n",
      "Change To Operating Activities            -8.682200e+07  -57867000.0   \n",
      "Issuance Of Stock                          4.295821e+09   33739000.0   \n",
      "Net Income                                -5.391020e+08 -348535000.0   \n",
      "Change In Cash                             6.932170e+08   19406000.0   \n",
      "Effect Of Exchange Rate                   -1.100000e+04     -11000.0   \n",
      "Total Cash From Operating Activities      -4.541700e+07 -176558000.0   \n",
      "Depreciation                               9.826000e+06    3522000.0   \n",
      "Change To Account Receivables             -1.162890e+08 -116869000.0   \n",
      "Other Cashflows From Financing Activities -1.194000e+06    -391000.0   \n",
      "Change To Netincome                        3.481260e+08  102128000.0   \n",
      "Capital Expenditures                      -3.503700e+07  -18583000.0   \n",
      "Repurchase Of Stock                                 NaN          NaN   \n",
      "\n",
      "                                            2019-01-31  \n",
      "Investments                               -358626000.0  \n",
      "Change To Liabilities                       84801000.0  \n",
      "Total Cashflows From Investing Activities -362642000.0  \n",
      "Net Borrowings                               2090000.0  \n",
      "Total Cash From Financing Activities       413601000.0  \n",
      "Change To Operating Activities             -27161000.0  \n",
      "Issuance Of Stock                            5018000.0  \n",
      "Net Income                                -178028000.0  \n",
      "Change In Cash                             -93023000.0  \n",
      "Effect Of Exchange Rate                       -11000.0  \n",
      "Total Cash From Operating Activities      -143982000.0  \n",
      "Depreciation                                 1362000.0  \n",
      "Change To Account Receivables              -51421000.0  \n",
      "Other Cashflows From Financing Activities    -391000.0  \n",
      "Change To Netincome                         20791000.0  \n",
      "Capital Expenditures                        -2058000.0  \n",
      "Repurchase Of Stock                        -29644000.0  \n"
     ]
    }
   ],
   "source": [
    "#Module 1 - Get data\n",
    "tesla = yf.Ticker('TSLA')\n",
    "snowFlake = yf.Ticker('SNOW')\n",
    "print(tesla.cashflow)\n"
   ]
  },
  {
   "cell_type": "code",
   "execution_count": 5,
   "metadata": {},
   "outputs": [
    {
     "name": "stdout",
     "output_type": "stream",
     "text": [
      "                                             2021-01-31   2020-01-31  \\\n",
      "Investments                               -3.981906e+09  167657000.0   \n",
      "Change To Liabilities                      3.100030e+08  224077000.0   \n",
      "Total Cashflows From Investing Activities -4.036645e+09  138495000.0   \n",
      "Net Borrowings                             2.090000e+06    2090000.0   \n",
      "Total Cash From Financing Activities       4.775290e+09   57469000.0   \n",
      "Change To Operating Activities            -8.682200e+07  -57867000.0   \n",
      "Issuance Of Stock                          4.295821e+09   33739000.0   \n",
      "Net Income                                -5.391020e+08 -348535000.0   \n",
      "Change In Cash                             6.932170e+08   19406000.0   \n",
      "Effect Of Exchange Rate                   -1.100000e+04     -11000.0   \n",
      "Total Cash From Operating Activities      -4.541700e+07 -176558000.0   \n",
      "Depreciation                               9.826000e+06    3522000.0   \n",
      "Change To Account Receivables             -1.162890e+08 -116869000.0   \n",
      "Other Cashflows From Financing Activities -1.194000e+06    -391000.0   \n",
      "Change To Netincome                        3.481260e+08  102128000.0   \n",
      "Capital Expenditures                      -3.503700e+07  -18583000.0   \n",
      "Repurchase Of Stock                                 NaN          NaN   \n",
      "\n",
      "                                            2019-01-31  \n",
      "Investments                               -358626000.0  \n",
      "Change To Liabilities                       84801000.0  \n",
      "Total Cashflows From Investing Activities -362642000.0  \n",
      "Net Borrowings                               2090000.0  \n",
      "Total Cash From Financing Activities       413601000.0  \n",
      "Change To Operating Activities             -27161000.0  \n",
      "Issuance Of Stock                            5018000.0  \n",
      "Net Income                                -178028000.0  \n",
      "Change In Cash                             -93023000.0  \n",
      "Effect Of Exchange Rate                       -11000.0  \n",
      "Total Cash From Operating Activities      -143982000.0  \n",
      "Depreciation                                 1362000.0  \n",
      "Change To Account Receivables              -51421000.0  \n",
      "Other Cashflows From Financing Activities    -391000.0  \n",
      "Change To Netincome                         20791000.0  \n",
      "Capital Expenditures                        -2058000.0  \n",
      "Repurchase Of Stock                        -29644000.0  \n"
     ]
    }
   ],
   "source": [
    "print(snowFlake.cashflow)"
   ]
  },
  {
   "cell_type": "code",
   "execution_count": null,
   "metadata": {},
   "outputs": [],
   "source": []
  }
 ],
 "metadata": {
  "interpreter": {
   "hash": "b9401ba2cd070fc65b82f27d639c1d04e29d71a1ed16f939e5db9876ac6a0b88"
  },
  "kernelspec": {
   "display_name": "Python 3.9.1 64-bit",
   "language": "python",
   "name": "python3"
  },
  "language_info": {
   "codemirror_mode": {
    "name": "ipython",
    "version": 3
   },
   "file_extension": ".py",
   "mimetype": "text/x-python",
   "name": "python",
   "nbconvert_exporter": "python",
   "pygments_lexer": "ipython3",
   "version": "3.9.1"
  },
  "orig_nbformat": 4
 },
 "nbformat": 4,
 "nbformat_minor": 2
}
