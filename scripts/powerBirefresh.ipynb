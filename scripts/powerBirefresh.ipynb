{
 "cells": [
  {
   "cell_type": "code",
   "execution_count": 1,
   "metadata": {},
   "outputs": [],
   "source": [
    "\n",
    "applicationId = 'eb2ad5df-dc26-4db0-b459-bf7e1bc6c116'"
   ]
  },
  {
   "cell_type": "code",
   "execution_count": 3,
   "metadata": {},
   "outputs": [
    {
     "ename": "AdalError",
     "evalue": "Get Token request returned http error: 400 and server response: {\"error\":\"invalid_grant\",\"error_description\":\"AADSTS65001: The user or administrator has not consented to use the application with ID 'eb2ad5df-dc26-4db0-b459-bf7e1bc6c116' named 'jmjHoldings'. Send an interactive authorization request for this user and resource.\\r\\nTrace ID: 0143bb97-b1f0-4539-a9fa-eec8c0d35600\\r\\nCorrelation ID: 34d053d1-902c-4f3c-abbb-e316b05ea3cf\\r\\nTimestamp: 2021-11-12 17:47:13Z\",\"error_codes\":[65001],\"timestamp\":\"2021-11-12 17:47:13Z\",\"trace_id\":\"0143bb97-b1f0-4539-a9fa-eec8c0d35600\",\"correlation_id\":\"34d053d1-902c-4f3c-abbb-e316b05ea3cf\",\"suberror\":\"consent_required\"}",
     "output_type": "error",
     "traceback": [
      "\u001b[1;31m---------------------------------------------------------------------------\u001b[0m",
      "\u001b[1;31mAdalError\u001b[0m                                 Traceback (most recent call last)",
      "\u001b[1;32m~\\AppData\\Local\\Temp/ipykernel_11536/3303991625.py\u001b[0m in \u001b[0;36m<module>\u001b[1;34m\u001b[0m\n\u001b[0;32m     11\u001b[0m                                      \u001b[0mvalidate_authority\u001b[0m\u001b[1;33m=\u001b[0m\u001b[1;32mTrue\u001b[0m\u001b[1;33m,\u001b[0m\u001b[1;33m\u001b[0m\u001b[1;33m\u001b[0m\u001b[0m\n\u001b[0;32m     12\u001b[0m                                      api_version=None)\n\u001b[1;32m---> 13\u001b[1;33m token = context.acquire_token_with_username_password(resource=resource_url,\n\u001b[0m\u001b[0;32m     14\u001b[0m                                                      \u001b[0mclient_id\u001b[0m\u001b[1;33m=\u001b[0m\u001b[0mclient_id\u001b[0m\u001b[1;33m,\u001b[0m\u001b[1;33m\u001b[0m\u001b[1;33m\u001b[0m\u001b[0m\n\u001b[0;32m     15\u001b[0m                                                      \u001b[0musername\u001b[0m\u001b[1;33m=\u001b[0m\u001b[0musername\u001b[0m\u001b[1;33m,\u001b[0m\u001b[1;33m\u001b[0m\u001b[1;33m\u001b[0m\u001b[0m\n",
      "\u001b[1;32m~\\AppData\\Local\\Programs\\Python\\Python39\\lib\\site-packages\\adal\\authentication_context.py\u001b[0m in \u001b[0;36macquire_token_with_username_password\u001b[1;34m(self, resource, username, password, client_id)\u001b[0m\n\u001b[0;32m    162\u001b[0m             \u001b[1;32mreturn\u001b[0m \u001b[0mtoken_request\u001b[0m\u001b[1;33m.\u001b[0m\u001b[0mget_token_with_username_password\u001b[0m\u001b[1;33m(\u001b[0m\u001b[0musername\u001b[0m\u001b[1;33m,\u001b[0m \u001b[0mpassword\u001b[0m\u001b[1;33m)\u001b[0m\u001b[1;33m\u001b[0m\u001b[1;33m\u001b[0m\u001b[0m\n\u001b[0;32m    163\u001b[0m \u001b[1;33m\u001b[0m\u001b[0m\n\u001b[1;32m--> 164\u001b[1;33m         \u001b[1;32mreturn\u001b[0m \u001b[0mself\u001b[0m\u001b[1;33m.\u001b[0m\u001b[0m_acquire_token\u001b[0m\u001b[1;33m(\u001b[0m\u001b[0mtoken_func\u001b[0m\u001b[1;33m)\u001b[0m\u001b[1;33m\u001b[0m\u001b[1;33m\u001b[0m\u001b[0m\n\u001b[0m\u001b[0;32m    165\u001b[0m \u001b[1;33m\u001b[0m\u001b[0m\n\u001b[0;32m    166\u001b[0m     \u001b[1;32mdef\u001b[0m \u001b[0macquire_token_with_client_credentials\u001b[0m\u001b[1;33m(\u001b[0m\u001b[0mself\u001b[0m\u001b[1;33m,\u001b[0m \u001b[0mresource\u001b[0m\u001b[1;33m,\u001b[0m \u001b[0mclient_id\u001b[0m\u001b[1;33m,\u001b[0m \u001b[0mclient_secret\u001b[0m\u001b[1;33m)\u001b[0m\u001b[1;33m:\u001b[0m\u001b[1;33m\u001b[0m\u001b[1;33m\u001b[0m\u001b[0m\n",
      "\u001b[1;32m~\\AppData\\Local\\Programs\\Python\\Python39\\lib\\site-packages\\adal\\authentication_context.py\u001b[0m in \u001b[0;36m_acquire_token\u001b[1;34m(self, token_func, correlation_id)\u001b[0m\n\u001b[0;32m    126\u001b[0m             correlation_id or self.correlation_id, self._call_context.get('enable_pii', False))\n\u001b[0;32m    127\u001b[0m         \u001b[0mself\u001b[0m\u001b[1;33m.\u001b[0m\u001b[0mauthority\u001b[0m\u001b[1;33m.\u001b[0m\u001b[0mvalidate\u001b[0m\u001b[1;33m(\u001b[0m\u001b[0mself\u001b[0m\u001b[1;33m.\u001b[0m\u001b[0m_call_context\u001b[0m\u001b[1;33m)\u001b[0m\u001b[1;33m\u001b[0m\u001b[1;33m\u001b[0m\u001b[0m\n\u001b[1;32m--> 128\u001b[1;33m         \u001b[1;32mreturn\u001b[0m \u001b[0mtoken_func\u001b[0m\u001b[1;33m(\u001b[0m\u001b[0mself\u001b[0m\u001b[1;33m)\u001b[0m\u001b[1;33m\u001b[0m\u001b[1;33m\u001b[0m\u001b[0m\n\u001b[0m\u001b[0;32m    129\u001b[0m \u001b[1;33m\u001b[0m\u001b[0m\n\u001b[0;32m    130\u001b[0m     \u001b[1;32mdef\u001b[0m \u001b[0macquire_token\u001b[0m\u001b[1;33m(\u001b[0m\u001b[0mself\u001b[0m\u001b[1;33m,\u001b[0m \u001b[0mresource\u001b[0m\u001b[1;33m,\u001b[0m \u001b[0muser_id\u001b[0m\u001b[1;33m,\u001b[0m \u001b[0mclient_id\u001b[0m\u001b[1;33m)\u001b[0m\u001b[1;33m:\u001b[0m\u001b[1;33m\u001b[0m\u001b[1;33m\u001b[0m\u001b[0m\n",
      "\u001b[1;32m~\\AppData\\Local\\Programs\\Python\\Python39\\lib\\site-packages\\adal\\authentication_context.py\u001b[0m in \u001b[0;36mtoken_func\u001b[1;34m(self)\u001b[0m\n\u001b[0;32m    160\u001b[0m         \u001b[1;32mdef\u001b[0m \u001b[0mtoken_func\u001b[0m\u001b[1;33m(\u001b[0m\u001b[0mself\u001b[0m\u001b[1;33m)\u001b[0m\u001b[1;33m:\u001b[0m\u001b[1;33m\u001b[0m\u001b[1;33m\u001b[0m\u001b[0m\n\u001b[0;32m    161\u001b[0m             \u001b[0mtoken_request\u001b[0m \u001b[1;33m=\u001b[0m \u001b[0mTokenRequest\u001b[0m\u001b[1;33m(\u001b[0m\u001b[0mself\u001b[0m\u001b[1;33m.\u001b[0m\u001b[0m_call_context\u001b[0m\u001b[1;33m,\u001b[0m \u001b[0mself\u001b[0m\u001b[1;33m,\u001b[0m \u001b[0mclient_id\u001b[0m\u001b[1;33m,\u001b[0m \u001b[0mresource\u001b[0m\u001b[1;33m)\u001b[0m\u001b[1;33m\u001b[0m\u001b[1;33m\u001b[0m\u001b[0m\n\u001b[1;32m--> 162\u001b[1;33m             \u001b[1;32mreturn\u001b[0m \u001b[0mtoken_request\u001b[0m\u001b[1;33m.\u001b[0m\u001b[0mget_token_with_username_password\u001b[0m\u001b[1;33m(\u001b[0m\u001b[0musername\u001b[0m\u001b[1;33m,\u001b[0m \u001b[0mpassword\u001b[0m\u001b[1;33m)\u001b[0m\u001b[1;33m\u001b[0m\u001b[1;33m\u001b[0m\u001b[0m\n\u001b[0m\u001b[0;32m    163\u001b[0m \u001b[1;33m\u001b[0m\u001b[0m\n\u001b[0;32m    164\u001b[0m         \u001b[1;32mreturn\u001b[0m \u001b[0mself\u001b[0m\u001b[1;33m.\u001b[0m\u001b[0m_acquire_token\u001b[0m\u001b[1;33m(\u001b[0m\u001b[0mtoken_func\u001b[0m\u001b[1;33m)\u001b[0m\u001b[1;33m\u001b[0m\u001b[1;33m\u001b[0m\u001b[0m\n",
      "\u001b[1;32m~\\AppData\\Local\\Programs\\Python\\Python39\\lib\\site-packages\\adal\\token_request.py\u001b[0m in \u001b[0;36mget_token_with_username_password\u001b[1;34m(self, username, password)\u001b[0m\n\u001b[0;32m    281\u001b[0m             \u001b[1;32mtry\u001b[0m\u001b[1;33m:\u001b[0m\u001b[1;33m\u001b[0m\u001b[1;33m\u001b[0m\u001b[0m\n\u001b[0;32m    282\u001b[0m                 \u001b[1;32mif\u001b[0m \u001b[0mself\u001b[0m\u001b[1;33m.\u001b[0m\u001b[0m_user_realm\u001b[0m\u001b[1;33m.\u001b[0m\u001b[0maccount_type\u001b[0m \u001b[1;33m==\u001b[0m \u001b[0mACCOUNT_TYPE\u001b[0m\u001b[1;33m[\u001b[0m\u001b[1;34m'Managed'\u001b[0m\u001b[1;33m]\u001b[0m\u001b[1;33m:\u001b[0m\u001b[1;33m\u001b[0m\u001b[1;33m\u001b[0m\u001b[0m\n\u001b[1;32m--> 283\u001b[1;33m                     \u001b[0mtoken\u001b[0m \u001b[1;33m=\u001b[0m \u001b[0mself\u001b[0m\u001b[1;33m.\u001b[0m\u001b[0m_get_token_username_password_managed\u001b[0m\u001b[1;33m(\u001b[0m\u001b[0musername\u001b[0m\u001b[1;33m,\u001b[0m \u001b[0mpassword\u001b[0m\u001b[1;33m)\u001b[0m\u001b[1;33m\u001b[0m\u001b[1;33m\u001b[0m\u001b[0m\n\u001b[0m\u001b[0;32m    284\u001b[0m                 \u001b[1;32melif\u001b[0m \u001b[0mself\u001b[0m\u001b[1;33m.\u001b[0m\u001b[0m_user_realm\u001b[0m\u001b[1;33m.\u001b[0m\u001b[0maccount_type\u001b[0m \u001b[1;33m==\u001b[0m \u001b[0mACCOUNT_TYPE\u001b[0m\u001b[1;33m[\u001b[0m\u001b[1;34m'Federated'\u001b[0m\u001b[1;33m]\u001b[0m\u001b[1;33m:\u001b[0m\u001b[1;33m\u001b[0m\u001b[1;33m\u001b[0m\u001b[0m\n\u001b[0;32m    285\u001b[0m                     \u001b[0mtoken\u001b[0m \u001b[1;33m=\u001b[0m \u001b[0mself\u001b[0m\u001b[1;33m.\u001b[0m\u001b[0m_get_token_username_password_federated\u001b[0m\u001b[1;33m(\u001b[0m\u001b[0musername\u001b[0m\u001b[1;33m,\u001b[0m \u001b[0mpassword\u001b[0m\u001b[1;33m)\u001b[0m\u001b[1;33m\u001b[0m\u001b[1;33m\u001b[0m\u001b[0m\n",
      "\u001b[1;32m~\\AppData\\Local\\Programs\\Python\\Python39\\lib\\site-packages\\adal\\token_request.py\u001b[0m in \u001b[0;36m_get_token_username_password_managed\u001b[1;34m(self, username, password)\u001b[0m\n\u001b[0;32m    175\u001b[0m         \u001b[0moauth_parameters\u001b[0m\u001b[1;33m[\u001b[0m\u001b[0mOAUTH2_PARAMETERS\u001b[0m\u001b[1;33m.\u001b[0m\u001b[0mUSERNAME\u001b[0m\u001b[1;33m]\u001b[0m \u001b[1;33m=\u001b[0m \u001b[0musername\u001b[0m\u001b[1;33m\u001b[0m\u001b[1;33m\u001b[0m\u001b[0m\n\u001b[0;32m    176\u001b[0m \u001b[1;33m\u001b[0m\u001b[0m\n\u001b[1;32m--> 177\u001b[1;33m         \u001b[1;32mreturn\u001b[0m \u001b[0mself\u001b[0m\u001b[1;33m.\u001b[0m\u001b[0m_oauth_get_token\u001b[0m\u001b[1;33m(\u001b[0m\u001b[0moauth_parameters\u001b[0m\u001b[1;33m)\u001b[0m\u001b[1;33m\u001b[0m\u001b[1;33m\u001b[0m\u001b[0m\n\u001b[0m\u001b[0;32m    178\u001b[0m \u001b[1;33m\u001b[0m\u001b[0m\n\u001b[0;32m    179\u001b[0m     \u001b[1;32mdef\u001b[0m \u001b[0m_perform_wstrust_assertion_oauth_exchange\u001b[0m\u001b[1;33m(\u001b[0m\u001b[0mself\u001b[0m\u001b[1;33m,\u001b[0m \u001b[0mwstrust_response\u001b[0m\u001b[1;33m)\u001b[0m\u001b[1;33m:\u001b[0m\u001b[1;33m\u001b[0m\u001b[1;33m\u001b[0m\u001b[0m\n",
      "\u001b[1;32m~\\AppData\\Local\\Programs\\Python\\Python39\\lib\\site-packages\\adal\\token_request.py\u001b[0m in \u001b[0;36m_oauth_get_token\u001b[1;34m(self, oauth_parameters)\u001b[0m\n\u001b[0;32m    110\u001b[0m     \u001b[1;32mdef\u001b[0m \u001b[0m_oauth_get_token\u001b[0m\u001b[1;33m(\u001b[0m\u001b[0mself\u001b[0m\u001b[1;33m,\u001b[0m \u001b[0moauth_parameters\u001b[0m\u001b[1;33m)\u001b[0m\u001b[1;33m:\u001b[0m\u001b[1;33m\u001b[0m\u001b[1;33m\u001b[0m\u001b[0m\n\u001b[0;32m    111\u001b[0m         \u001b[0mclient\u001b[0m \u001b[1;33m=\u001b[0m \u001b[0mself\u001b[0m\u001b[1;33m.\u001b[0m\u001b[0m_create_oauth2_client\u001b[0m\u001b[1;33m(\u001b[0m\u001b[1;33m)\u001b[0m\u001b[1;33m\u001b[0m\u001b[1;33m\u001b[0m\u001b[0m\n\u001b[1;32m--> 112\u001b[1;33m         \u001b[1;32mreturn\u001b[0m \u001b[0mclient\u001b[0m\u001b[1;33m.\u001b[0m\u001b[0mget_token\u001b[0m\u001b[1;33m(\u001b[0m\u001b[0moauth_parameters\u001b[0m\u001b[1;33m)\u001b[0m\u001b[1;33m\u001b[0m\u001b[1;33m\u001b[0m\u001b[0m\n\u001b[0m\u001b[0;32m    113\u001b[0m \u001b[1;33m\u001b[0m\u001b[0m\n\u001b[0;32m    114\u001b[0m     \u001b[1;32mdef\u001b[0m \u001b[0m_create_cache_driver\u001b[0m\u001b[1;33m(\u001b[0m\u001b[0mself\u001b[0m\u001b[1;33m)\u001b[0m\u001b[1;33m:\u001b[0m\u001b[1;33m\u001b[0m\u001b[1;33m\u001b[0m\u001b[0m\n",
      "\u001b[1;32m~\\AppData\\Local\\Programs\\Python\\Python39\\lib\\site-packages\\adal\\oauth2_client.py\u001b[0m in \u001b[0;36mget_token\u001b[1;34m(self, oauth_parameters)\u001b[0m\n\u001b[0;32m    287\u001b[0m                 \u001b[1;32mexcept\u001b[0m \u001b[0mValueError\u001b[0m\u001b[1;33m:\u001b[0m\u001b[1;33m\u001b[0m\u001b[1;33m\u001b[0m\u001b[0m\n\u001b[0;32m    288\u001b[0m                     \u001b[1;32mpass\u001b[0m\u001b[1;33m\u001b[0m\u001b[1;33m\u001b[0m\u001b[0m\n\u001b[1;32m--> 289\u001b[1;33m             \u001b[1;32mraise\u001b[0m \u001b[0mAdalError\u001b[0m\u001b[1;33m(\u001b[0m\u001b[0mreturn_error_string\u001b[0m\u001b[1;33m,\u001b[0m \u001b[0merror_response\u001b[0m\u001b[1;33m)\u001b[0m\u001b[1;33m\u001b[0m\u001b[1;33m\u001b[0m\u001b[0m\n\u001b[0m\u001b[0;32m    290\u001b[0m \u001b[1;33m\u001b[0m\u001b[0m\n\u001b[0;32m    291\u001b[0m     \u001b[1;32mdef\u001b[0m \u001b[0mget_user_code_info\u001b[0m\u001b[1;33m(\u001b[0m\u001b[0mself\u001b[0m\u001b[1;33m,\u001b[0m \u001b[0moauth_parameters\u001b[0m\u001b[1;33m)\u001b[0m\u001b[1;33m:\u001b[0m\u001b[1;33m\u001b[0m\u001b[1;33m\u001b[0m\u001b[0m\n",
      "\u001b[1;31mAdalError\u001b[0m: Get Token request returned http error: 400 and server response: {\"error\":\"invalid_grant\",\"error_description\":\"AADSTS65001: The user or administrator has not consented to use the application with ID 'eb2ad5df-dc26-4db0-b459-bf7e1bc6c116' named 'jmjHoldings'. Send an interactive authorization request for this user and resource.\\r\\nTrace ID: 0143bb97-b1f0-4539-a9fa-eec8c0d35600\\r\\nCorrelation ID: 34d053d1-902c-4f3c-abbb-e316b05ea3cf\\r\\nTimestamp: 2021-11-12 17:47:13Z\",\"error_codes\":[65001],\"timestamp\":\"2021-11-12 17:47:13Z\",\"trace_id\":\"0143bb97-b1f0-4539-a9fa-eec8c0d35600\",\"correlation_id\":\"34d053d1-902c-4f3c-abbb-e316b05ea3cf\",\"suberror\":\"consent_required\"}"
     ]
    }
   ],
   "source": [
    "import adal\n",
    "import requests\n",
    "import json\n",
    "import pandas\n",
    "authority_url = 'https://login.windows.net/common'\n",
    "resource_url = 'https://analysis.windows.net/powerbi/api'\n",
    "client_id = 'eb2ad5df-dc26-4db0-b459-bf7e1bc6c116'\n",
    "username = 'jmdomd20@bath.ac.uk'\n",
    "password = 'Cro4gator182000'\n",
    "context = adal.AuthenticationContext(authority=authority_url,\n",
    "                                     validate_authority=True,\n",
    "                                     api_version=None)\n",
    "token = context.acquire_token_with_username_password(resource=resource_url,\n",
    "                                                     client_id=client_id,\n",
    "                                                     username=username,\n",
    "                                                     password=password)\n",
    "access_token = token.get('accessToken')\n",
    "groups_request_url = 'https://api.powerbi.com/v1.0/myorg/groups'\n",
    "header = {'Authorization': f'Bearer {access_token}'}\n",
    "groups_request = json.loads(requests.get(url=groups_request_url, headers=header).content)\n",
    "groups = [d['id'] for d in groups_request['value']]\n",
    "for group in groups:\n",
    "    datasets_request_url = 'https://api.powerbi.com/v1.0/myorg/groups/' + group + '/datasets'\n",
    "    datasets_request = json.loads(requests.get(url=datasets_request_url, headers=header).content)\n",
    "    datasets = [d['id'] for d in datasets_request['value']]\n",
    "    for dataset in datasets:\n",
    "        refresh_url = 'https://api.powerbi.com/v1.0/myorg/groups/' + group + '/datasets/' + dataset + '/refreshes'\n",
    "        r = requests.post(url=refresh_url, headers=header)\n",
    "final = pandas.DataFrame()"
   ]
  },
  {
   "cell_type": "code",
   "execution_count": null,
   "metadata": {},
   "outputs": [],
   "source": []
  }
 ],
 "metadata": {
  "interpreter": {
   "hash": "b9401ba2cd070fc65b82f27d639c1d04e29d71a1ed16f939e5db9876ac6a0b88"
  },
  "kernelspec": {
   "display_name": "Python 3.9.1 64-bit",
   "language": "python",
   "name": "python3"
  },
  "language_info": {
   "codemirror_mode": {
    "name": "ipython",
    "version": 3
   },
   "file_extension": ".py",
   "mimetype": "text/x-python",
   "name": "python",
   "nbconvert_exporter": "python",
   "pygments_lexer": "ipython3",
   "version": "3.9.1"
  },
  "orig_nbformat": 4
 },
 "nbformat": 4,
 "nbformat_minor": 2
}
