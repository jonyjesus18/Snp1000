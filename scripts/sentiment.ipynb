{
 "cells": [
  {
   "cell_type": "code",
   "execution_count": 124,
   "metadata": {},
   "outputs": [
    {
     "name": "stdout",
     "output_type": "stream",
     "text": [
      "2021-11-20 17:50:37,029 loading file C:\\Users\\joaom\\.flair\\models\\sentiment-en-mix-distillbert_4.pt\n"
     ]
    }
   ],
   "source": [
    "import requests\n",
    "import json\n",
    "import pandas as pd\n",
    "import re\n",
    "import emoji\n",
    "import flair\n",
    "import matplotlib as plt\n",
    "\n",
    "pd.set_option('display.max_rows',None)\n",
    "pd.set_option('display.max_columns', None)\n",
    "pd.set_option('display.max_colwidth', None)\n",
    "\n",
    "ApiKey = 'zq851ydtQ1XQi5UdNSMUPPInz'\n",
    "ApiKeySecret = 'pKPlz171RVpaLlEESxDmRTvxuk452M8GEV92c786twfcuTs9y4'\n",
    "bearer_token = 'AAAAAAAAAAAAAAAAAAAAAD3iVwEAAAAAp8IJMUXWf1wxFWiZfhACIHQXqSI%3DEOjIMXIXNZnXwXMpOi7p3ecqlMW7iOhwS8Dmbk5htotAzSFQmG'\n",
    "\n",
    "sentiment_model = flair.models.TextClassifier.load('en-sentiment')\n"
   ]
  },
  {
   "cell_type": "code",
   "execution_count": 125,
   "metadata": {},
   "outputs": [],
   "source": [
    "# Get User Data - Need elecated Access -  Waiting on approval by the Twitter Dev support team\n",
    "\n",
    "# usersEndpoint = 'https://api.twitter.com/labs/2/users/'\n",
    "# userFields = \"created_at,description,pinned_tweet_id\"\n",
    "# userParams = {\n",
    "#     \"usernames\": \"TwitterDev\",\n",
    "#     \"user.fields\": userFields}\n",
    "\n",
    "# headers = {'authorization': f'Bearer {bearer_token}'}\n",
    "\n",
    "# userResponse = requests.get(usersEndpoint,\n",
    "#                             params=userParams,\n",
    "#                             headers=headers)  # send the requestprint(response)\n",
    "\n",
    "# userResponse = userResponse.json()\n",
    "def GetData(DailyBatchSize,DailyBatches,\n",
    "StartHour,StartDay,EndDay,Month,Year):\n",
    "    outputDataframe = pd.DataFrame()  \n",
    "    endpoint = 'https://api.twitter.com/2/tweets/search/recent'\n",
    "    headers = {'authorization': f'Bearer {bearer_token}'}\n",
    "    for day in range(StartDay,EndDay+1):\n",
    "        for batch in range(DailyBatches):\n",
    "            hour = StartHour + 1 #get tweets one hour ahead\n",
    "            params = {\n",
    "                'query': '(tesla OR tesla Stock) (lang:en)', #add (tesla OR tsla) (type:popular)\n",
    "                'max_results': f'{DailyBatchSize}',\n",
    "                'end_time': f'{Year}-{Month}-{day}T{hour}:00:00Z',\n",
    "                'tweet.fields': 'created_at,lang,author_id'} # 'media.fields': 'type'\n",
    "            response = requests.get(endpoint,\n",
    "                                        params=params,\n",
    "                                        headers=headers)  # send the request\n",
    "\n",
    "            # print(response.json())\n",
    "\n",
    "            data = response.json()['data']\n",
    "            df = pd.DataFrame.from_dict(data)\n",
    "            outputDataframe = outputDataframe.append(df)\n",
    "    outputDataframe.reset_index(drop=True, inplace=True)\n",
    "    outputDataframe.style\n",
    "    return outputDataframe\n",
    "\n",
    "df = GetData(DailyBatchSize=10,\n",
    "        DailyBatches=1, # max 12 (safety)\n",
    "        StartHour = 10, #10 start 10am\n",
    "        StartDay=14,\n",
    "        EndDay=19,\n",
    "        Month=11,\n",
    "        Year=2021)"
   ]
  },
  {
   "cell_type": "code",
   "execution_count": 126,
   "metadata": {},
   "outputs": [],
   "source": [
    "\n",
    "def remove_emojis(data):\n",
    "    emoj = re.compile(\"[\"\n",
    "        u\"\\U0001F600-\\U0001F64F\"  # emoticons\n",
    "        u\"\\U0001F300-\\U0001F5FF\"  # symbols & pictographs\n",
    "        u\"\\U0001F680-\\U0001F6FF\"  # transport & map symbols\n",
    "        u\"\\U0001F1E0-\\U0001F1FF\"  # flags (iOS)\n",
    "        u\"\\U00002500-\\U00002BEF\"  # chinese char\n",
    "        u\"\\U00002702-\\U000027B0\"\n",
    "        u\"\\U00002702-\\U000027B0\"\n",
    "        u\"\\U000024C2-\\U0001F251\"\n",
    "        u\"\\U0001f926-\\U0001f937\"\n",
    "        u\"\\U00010000-\\U0010ffff\"\n",
    "        u\"\\u2640-\\u2642\" \n",
    "        u\"\\u2600-\\u2B55\"\n",
    "        u\"\\u200d\"\n",
    "        u\"\\u23cf\"\n",
    "        u\"\\u23e9\"\n",
    "        u\"\\u231a\"\n",
    "        u\"\\ufe0f\"  # dingbats\n",
    "        u\"\\u3030\"\n",
    "                      \"]+\", re.UNICODE)\n",
    "    return re.sub(emoj, '', data)\n",
    "\n",
    "  \n",
    "def cleanTweet(tweet):\n",
    "    if 'RT' in tweet[:3]:\n",
    "        tweet = tweet.replace('RT','')\n",
    "    tweet = remove_emojis(tweet)\n",
    "    tweet = tweet.replace(':','')\n",
    "    tweet = re.sub(\"@[A-Za-z0-9]+\",\"\",tweet) #Remove @ sign\n",
    "    tweet = re.sub(r\"(?:\\@|http?\\://|https?\\://|www)\\S+\", \"\", tweet) #Remove http links\n",
    "    tweet = re.sub(r\"(?:\\@|http?\\://|https?\\://|www)\\S+\", \"\", tweet) #Remove http links\n",
    "    tweet = \" \".join(tweet.split())\n",
    "    tweet = ''.join(c for c in tweet if c not in emoji.UNICODE_EMOJI) #Remove Emojis\n",
    "    tweet = tweet.replace(\"#\", \"\").replace(\"_\", \" \") #Remove hashtag sign but keep the text\n",
    "    return tweet\n",
    "\n",
    "def cleanDf(columnName):\n",
    "    cleanList = []\n",
    "    for tweet in df[columnName]:\n",
    "        clean_tweet = cleanTweet(tweet)\n",
    "        cleanList.append(clean_tweet)\n",
    "    df[columnName] = cleanList\n",
    "    dateList =  []\n",
    "    for date in df['created_at']:\n",
    "        date = str(date)[:10]\n",
    "        dateList.append(date)\n",
    "    df['created_at'] = dateList\n",
    "    df['created_at']\n",
    "\n",
    "cleanDf('text')\n",
    "\n"
   ]
  },
  {
   "cell_type": "code",
   "execution_count": 140,
   "metadata": {},
   "outputs": [],
   "source": [
    "\n",
    "def addSentiment ():\n",
    "    sentimentColumnN = []\n",
    "    sentimentColumnL = []\n",
    "    for tweet in df['text']:\n",
    "        sentence = flair.data.Sentence(tweet)\n",
    "        sentiment_model.predict(sentence)\n",
    "        split_sentence = str(sentence.labels[0]).split(' ')\n",
    "        numeric_score = split_sentence[1]\n",
    "        label_score = split_sentence[0]\n",
    "        sentimentColumnN.append(numeric_score)\n",
    "        sentimentColumnL.append(label_score)\n",
    "    df['Sentiment Outcome'] = sentimentColumnL\n",
    "    df['Confidence Score'] = sentimentColumnN\n",
    "\n",
    "addSentiment() # ref - took 1m46.3s to analyse 6 days at 100tweet/batch - 5 batches a day"
   ]
  },
  {
   "cell_type": "code",
   "execution_count": 133,
   "metadata": {},
   "outputs": [
    {
     "data": {
      "image/png": "[encoded data removed]",
      "text/plain": [
       "<Figure size 432x288 with 2 Axes>"
      ]
     },
     "metadata": {
      "needs_background": "light"
     },
     "output_type": "display_data"
    }
   ],
   "source": [
    "import numpy as np\n",
    "score = df['Confidence Score'][df['Sentiment Outcome']=='POSITIVE']\n",
    "date = df['created_at'][df['Sentiment Outcome']=='POSITIVE']\n",
    "\n",
    "tesla  = pd.read_csv('tesla.csv')\n",
    "teslaDate = tesla['Close'][tesla['Date'] > '2021-11-13' ]\n",
    "close = tesla['Close'][tesla['Date'] > '2021-11-13' ]\n",
    "\n",
    "import matplotlib.pyplot as plt\n",
    "from matplotlib.dates import DateFormatter\n",
    "\n",
    "tesla  = pd.read_csv('tesla.csv')\n",
    "teslaDate = tesla['Date'][tesla['Date'] > '2021-11-13' ]\n",
    "close = tesla['Close'][tesla['Date'] > '2021-11-13' ]\n",
    "\n",
    "\n",
    "fig, axs = plt.subplots(2)\n",
    "fig.suptitle('Sentiment and Stock Price')\n",
    "\n",
    "axs[0].plot(date, score)\n",
    "axs[1].plot(teslaDate, close)\n",
    "\n",
    "fig.autofmt_xdate()\n",
    "plt.show()"
   ]
  },
  {
   "cell_type": "code",
   "execution_count": 119,
   "metadata": {},
   "outputs": [
    {
     "name": "stdout",
     "output_type": "stream",
     "text": [
      "          Close       RSI\n",
      "Close  1.000000  0.381268\n",
      "RSI    0.381268  1.000000\n",
      "          Close       OBV\n",
      "Close  1.000000  0.389962\n",
      "OBV    0.389962  1.000000\n"
     ]
    }
   ],
   "source": [
    "data = tesla[['Close','RSI']]\n",
    "dataOBV = tesla[['Close','OBV']]\n",
    "\n",
    "correlation = data.corr(method='pearson')\n",
    "correlationOBV = dataOBV.corr(method='pearson')\n",
    "\n",
    "print(correlation)\n",
    "print(correlationOBV)\n"
   ]
  },
  {
   "cell_type": "code",
   "execution_count": 92,
   "metadata": {},
   "outputs": [
    {
     "data": {
      "text/plain": [
       "Sentence: \"This makes no sense to me Do people realize that other car manufacturers are and will also be making electric cars in the future ? Maybe people think Tesla stock doubles as a cryptocurrency ...\"   [− Tokens: 35  − Sentence-Labels: {'label': [NEGATIVE (1.0)]}]"
      ]
     },
     "execution_count": 92,
     "metadata": {},
     "output_type": "execute_result"
    }
   ],
   "source": [
    "text = '''This makes no sense to me\n",
    "Do people realize that other car manufacturers are and will also be making electric cars in the future?\n",
    "Maybe people think Tesla stock doubles as a cryptocurrency...'''\n",
    "\n",
    "sentence = flair.data.Sentence(text)\n",
    "sentiment_model.predict(sentence)\n",
    "sentence\n"
   ]
  },
  {
   "cell_type": "code",
   "execution_count": 137,
   "metadata": {},
   "outputs": [],
   "source": [
    "import requests\n",
    "import json\n",
    "import pandas as pd\n",
    "\n",
    "bearer_token = 'AAAAAAAAAAAAAAAAAAAAAD3iVwEAAAAAp8IJMUXWf1wxFWiZfhACIHQXqSI%3DEOjIMXIXNZnXwXMpOi7p3ecqlMW7iOhwS8Dmbk5htotAzSFQmG'\n",
    "endpoint = 'https://api.twitter.com/2/tweets/search/recent'\n",
    "headers = {'authorization': f'Bearer {bearer_token}'}\n",
    "\n",
    "params = {\n",
    "    'query': '(tesla OR tesla Stock) (lang:en)', \n",
    "    'max_results': '100',\n",
    "    'end_time': '2021-11-20T15:00:00Z',\n",
    "    'tweet.fields': 'created_at,lang,author_id'} # 'media.fields': 'type'\n",
    "response = requests.get(endpoint,\n",
    "                            params=params,\n",
    "                            headers=headers) \n",
    "\n",
    "data = response.json()['data']\n",
    "df = pd.DataFrame.from_dict(data)\n"
   ]
  },
  {
   "cell_type": "code",
   "execution_count": 138,
   "metadata": {},
   "outputs": [],
   "source": [
    "cleanDf('text')\n"
   ]
  },
  {
   "cell_type": "code",
   "execution_count": null,
   "metadata": {},
   "outputs": [],
   "source": []
  }
 ],
 "metadata": {
  "interpreter": {
   "hash": "b9401ba2cd070fc65b82f27d639c1d04e29d71a1ed16f939e5db9876ac6a0b88"
  },
  "kernelspec": {
   "display_name": "Python 3.9.1 64-bit",
   "language": "python",
   "name": "python3"
  },
  "language_info": {
   "codemirror_mode": {
    "name": "ipython",
    "version": 3
   },
   "file_extension": ".py",
   "mimetype": "text/x-python",
   "name": "python",
   "nbconvert_exporter": "python",
   "pygments_lexer": "ipython3",
   "version": "3.9.1"
  },
  "orig_nbformat": 4
 },
 "nbformat": 4,
 "nbformat_minor": 2
}
